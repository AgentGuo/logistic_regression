{
 "cells": [
  {
   "cell_type": "markdown",
   "metadata": {},
   "source": [
    "# Logistic_regression"
   ]
  },
  {
   "cell_type": "markdown",
   "metadata": {},
   "source": [
    "## 1.加载数据"
   ]
  },
  {
   "cell_type": "code",
   "execution_count": 1,
   "metadata": {},
   "outputs": [],
   "source": [
    "import numpy as np\n",
    "import matplotlib.pyplot as plt"
   ]
  },
  {
   "cell_type": "code",
   "execution_count": 2,
   "metadata": {},
   "outputs": [],
   "source": [
    "pimaForm = np.loadtxt('Pima.csv', dtype=np.float64, delimiter=',')   # 加载整个表格\n",
    "data = pimaForm[:,:8].T   # 数据部分\n",
    "label = pimaForm[:,8:].astype(np.int16)   # 标签部分"
   ]
  },
  {
   "cell_type": "code",
   "execution_count": 3,
   "metadata": {},
   "outputs": [
    {
     "name": "stdout",
     "output_type": "stream",
     "text": [
      "(8, 768) (768, 1)\n"
     ]
    }
   ],
   "source": [
    "print(data.shape, label.shape)"
   ]
  },
  {
   "cell_type": "markdown",
   "metadata": {},
   "source": [
    "## 2.数据预处理"
   ]
  },
  {
   "cell_type": "markdown",
   "metadata": {},
   "source": [
    "### 2.1 缺失值处理\n",
    "这里缺失值处理采用填充均值"
   ]
  },
  {
   "cell_type": "code",
   "execution_count": 4,
   "metadata": {},
   "outputs": [],
   "source": [
    "dataMean = data.mean(axis=1)    # 计算均值，用于缺失值填充\n",
    "dataStd = data.std(axis=1)      # 计算标准差，用于后续数据处理"
   ]
  },
  {
   "cell_type": "code",
   "execution_count": 5,
   "metadata": {},
   "outputs": [],
   "source": [
    "for i in range(data.shape[0]):\n",
    "    for j in range(data.shape[1]):\n",
    "        if data[i][j] == 0:    # 出现缺失值就用均值填充\n",
    "            data[i][j] = dataMean[i]"
   ]
  },
  {
   "cell_type": "markdown",
   "metadata": {},
   "source": [
    "### 2.2 输入归一化\n",
    "认为输入数据为正态分布"
   ]
  },
  {
   "cell_type": "code",
   "execution_count": 6,
   "metadata": {},
   "outputs": [],
   "source": [
    "data = ((data.T - dataMean)/dataStd).T  # 使用z-score标准化方法"
   ]
  },
  {
   "cell_type": "markdown",
   "metadata": {},
   "source": [
    "### 2.3 数据集划分\n",
    "训练集和测试集比例按照5：1"
   ]
  },
  {
   "cell_type": "code",
   "execution_count": 7,
   "metadata": {},
   "outputs": [
    {
     "name": "stdout",
     "output_type": "stream",
     "text": [
      "(8, 128) (128, 1) (8, 640) (640, 1)\n"
     ]
    }
   ],
   "source": [
    "testData = data[:,:128]\n",
    "testLabel = label[:128]\n",
    "trainData = data[:,128:]\n",
    "trainLabel = label[128:]\n",
    "print(testData.shape, testLabel.shape, trainData.shape, trainLabel.shape)"
   ]
  },
  {
   "cell_type": "markdown",
   "metadata": {},
   "source": [
    "## 3.初始化参数"
   ]
  },
  {
   "cell_type": "code",
   "execution_count": 8,
   "metadata": {},
   "outputs": [],
   "source": [
    "def initParameter(feature_num):\n",
    "    w = np.random.rand(1, feature_num)   # w:1xfeature_num, 用0-1随机数初始化\n",
    "    b = 0    # b初始化为0\n",
    "    return w,b"
   ]
  },
  {
   "cell_type": "code",
   "execution_count": 9,
   "metadata": {},
   "outputs": [
    {
     "name": "stdout",
     "output_type": "stream",
     "text": [
      "(1, 8) 0\n"
     ]
    }
   ],
   "source": [
    "test_w, test_b = initParameter(8)   # 测试一下\n",
    "print(test_w.shape, test_b)"
   ]
  },
  {
   "cell_type": "markdown",
   "metadata": {},
   "source": [
    "## 4.向前传播"
   ]
  },
  {
   "cell_type": "code",
   "execution_count": 10,
   "metadata": {},
   "outputs": [],
   "source": [
    "def forward(data, w, b):\n",
    "    z = np.dot(w, data)   # 计算线性部分\n",
    "    a = 1/(1+np.exp(-z))  # 计算预测结果\n",
    "    return a.T"
   ]
  },
  {
   "cell_type": "code",
   "execution_count": 11,
   "metadata": {},
   "outputs": [
    {
     "name": "stdout",
     "output_type": "stream",
     "text": [
      "(640, 1)\n"
     ]
    }
   ],
   "source": [
    "a = forward(trainData, test_w, test_b)\n",
    "print(a.shape)"
   ]
  },
  {
   "cell_type": "markdown",
   "metadata": {},
   "source": [
    "## 5.梯度下降"
   ]
  },
  {
   "cell_type": "code",
   "execution_count": 12,
   "metadata": {},
   "outputs": [],
   "source": [
    "def gradDescent(w, b, x , y, a, learning_rate):\n",
    "    w = w - learning_rate * np.dot(x, a-y).T / a.shape[0]   # 更新参数w\n",
    "    b = b - learning_rate * (a-y).sum(axis=0)[0]   # 更新参数b\n",
    "    return w,b"
   ]
  },
  {
   "cell_type": "code",
   "execution_count": 13,
   "metadata": {},
   "outputs": [],
   "source": [
    "test_w2, test_b2 = gradDescent(test_w, test_b, trainData, trainLabel, a, 0.01)"
   ]
  },
  {
   "cell_type": "code",
   "execution_count": 14,
   "metadata": {},
   "outputs": [
    {
     "name": "stdout",
     "output_type": "stream",
     "text": [
      "(1, 8) -1.3182942043705952\n"
     ]
    }
   ],
   "source": [
    "print(test_w2.shape, test_b2)"
   ]
  },
  {
   "cell_type": "markdown",
   "metadata": {},
   "source": [
    "## 6.开始训练"
   ]
  },
  {
   "cell_type": "code",
   "execution_count": 46,
   "metadata": {},
   "outputs": [],
   "source": [
    "w, b = initParameter(8)   # 测试一下\n",
    "cost = []\n",
    "for i in range(200):\n",
    "    a = forward(trainData, w, b)\n",
    "    w, b = gradDescent(w, b, trainData, trainLabel, a, 0.4)\n",
    "    cost.append((-(trainLabel*np.log(a)+(1-trainLabel)*np.log(1-a))).sum(axis = 0)[0]/a.shape[0])"
   ]
  },
  {
   "cell_type": "code",
   "execution_count": 47,
   "metadata": {},
   "outputs": [
    {
     "data": {
      "text/plain": [
       "[<matplotlib.lines.Line2D at 0x216b95965f8>]"
      ]
     },
     "execution_count": 47,
     "metadata": {},
     "output_type": "execute_result"
    },
    {
     "data": {
      "image/png": "[encoded data removed]",
      "text/plain": [
       "<Figure size 432x288 with 1 Axes>"
      ]
     },
     "metadata": {
      "needs_background": "light"
     },
     "output_type": "display_data"
    }
   ],
   "source": [
    "plt.plot(cost)"
   ]
  },
  {
   "cell_type": "code",
   "execution_count": 48,
   "metadata": {},
   "outputs": [],
   "source": [
    "testPred = (forward(testData, w, b)>0.5).astype(np.int16)"
   ]
  },
  {
   "cell_type": "code",
   "execution_count": 50,
   "metadata": {},
   "outputs": [
    {
     "name": "stdout",
     "output_type": "stream",
     "text": [
      "测试集正确率：0.734375\n"
     ]
    }
   ],
   "source": [
    "print(\"测试集正确率：\"+str((testPred==testLabel).astype(np.int16).reshape(-1).sum()/testPred.shape[0]))"
   ]
  },
  {
   "cell_type": "code",
   "execution_count": null,
   "metadata": {},
   "outputs": [],
   "source": []
  }
 ],
 "metadata": {
  "kernelspec": {
   "display_name": "Python 3",
   "language": "python",
   "name": "python3"
  },
  "language_info": {
   "codemirror_mode": {
    "name": "ipython",
    "version": 3
   },
   "file_extension": ".py",
   "mimetype": "text/x-python",
   "name": "python",
   "nbconvert_exporter": "python",
   "pygments_lexer": "ipython3",
   "version": "3.7.0"
  }
 },
 "nbformat": 4,
 "nbformat_minor": 2
}
